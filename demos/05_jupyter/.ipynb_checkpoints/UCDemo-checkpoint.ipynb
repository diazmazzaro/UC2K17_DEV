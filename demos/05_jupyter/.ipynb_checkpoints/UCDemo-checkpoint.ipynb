{
 "cells": [
  {
   "cell_type": "code",
   "execution_count": 1,
   "metadata": {
    "collapsed": true
   },
   "outputs": [],
   "source": [
    "from arcgis.gis import GIS\n",
    "gis = GIS(\"https://ags-enterprise4.aeroterra.com/arcgis/\", \"PythonApi\", \"test123456\")\n",
    "my_map = gis.map('Argentina',5)\n",
    "my_map"
   ]
  },
  {
   "cell_type": "code",
   "execution_count": 2,
   "metadata": {
    "collapsed": false
   },
   "outputs": [
    {
     "data": {
      "text/html": [
       "<div class=\"item_container\" style=\"height: auto; overflow: hidden; border: 1px solid #cfcfcf; border-radius: 2px; background: #f6fafa; line-height: 1.21429em; padding: 10px;\">\n",
       "                    <div class=\"item_left\" style=\"width: 210px; float: left;\">\n",
       "                       <a href='https://ags-enterprise4.aeroterra.com/arcgis//home/item.html?id=b2c97de923214dfca44ee71420a56e54' target='_blank'>\n",
       "                        <img src='data:image/png;base64,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' width='200' height='133' class=\"itemThumbnail\">\n",
       "                       </a>\n",
       "                    </div>\n",
       "\n",
       "                    <div class=\"item_right\"     style=\"float: none; width: auto; overflow: hidden;\">\n",
       "                        <a href='https://ags-enterprise4.aeroterra.com/arcgis//home/item.html?id=b2c97de923214dfca44ee71420a56e54' target='_blank'><b>TRACK_date</b>\n",
       "                        </a>\n",
       "                        <br/>TRACK Dates<img src='https://ags-enterprise4.aeroterra.com/arcgis//home/js/jsapi/esri/css/images/item_type_icons/mapimages16.png' style=\"vertical-align:middle;\">Map Image Layer by PythonApi\n",
       "                        <br/>Last Modified: Mayo 09, 2017\n",
       "                        <br/>0 comments, 19 views\n",
       "                    </div>\n",
       "                </div>\n",
       "                "
      ],
      "text/plain": [
       "<Item title:\"TRACK_date\" type:Map Service owner:PythonApi>"
      ]
     },
     "metadata": {},
     "output_type": "display_data"
    },
    {
     "data": {
      "text/plain": [
       "'b2c97de923214dfca44ee71420a56e54'"
      ]
     },
     "metadata": {},
     "output_type": "display_data"
    },
    {
     "data": {
      "text/html": [
       "<div class=\"item_container\" style=\"height: auto; overflow: hidden; border: 1px solid #cfcfcf; border-radius: 2px; background: #f6fafa; line-height: 1.21429em; padding: 10px;\">\n",
       "                    <div class=\"item_left\" style=\"width: 210px; float: left;\">\n",
       "                       <a href='https://ags-enterprise4.aeroterra.com/arcgis//home/item.html?id=7f87cabe5b384d97a8beaffe0953bb69' target='_blank'>\n",
       "                        <img src='data:image/png;base64,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' width='200' height='133' class=\"itemThumbnail\">\n",
       "                       </a>\n",
       "                    </div>\n",
       "\n",
       "                    <div class=\"item_right\"     style=\"float: none; width: auto; overflow: hidden;\">\n",
       "                        <a href='https://ags-enterprise4.aeroterra.com/arcgis//home/item.html?id=7f87cabe5b384d97a8beaffe0953bb69' target='_blank'><b>TRACK_LINES</b>\n",
       "                        </a>\n",
       "                        <br/>TRACKS<img src='https://ags-enterprise4.aeroterra.com/arcgis//home/js/jsapi/esri/css/images/item_type_icons/featureshosted16.png' style=\"vertical-align:middle;\">Feature Layer Collection by pdiazm\n",
       "                        <br/>Last Modified: Mayo 09, 2017\n",
       "                        <br/>0 comments, 0 views\n",
       "                    </div>\n",
       "                </div>\n",
       "                "
      ],
      "text/plain": [
       "<Item title:\"TRACK_LINES\" type:Feature Service owner:pdiazm>"
      ]
     },
     "metadata": {},
     "output_type": "display_data"
    },
    {
     "data": {
      "text/plain": [
       "'7f87cabe5b384d97a8beaffe0953bb69'"
      ]
     },
     "metadata": {},
     "output_type": "display_data"
    },
    {
     "data": {
      "text/html": [
       "<div class=\"item_container\" style=\"height: auto; overflow: hidden; border: 1px solid #cfcfcf; border-radius: 2px; background: #f6fafa; line-height: 1.21429em; padding: 10px;\">\n",
       "                    <div class=\"item_left\" style=\"width: 210px; float: left;\">\n",
       "                       <a href='https://ags-enterprise4.aeroterra.com/arcgis//home/item.html?id=796e509d65b04aacbe248e662cbc91dc' target='_blank'>\n",
       "                        <img src='data:image/png;base64,/9j/4AAQSkZJRgABAgAAAQABAAD/2wBDAAgGBgcGBQgHBwcJCQgKDBQNDAsLDBkSEw8UHRofHh0aHBwgJC4nICIsIxwcKDcpLDAxNDQ0Hyc5PTgyPC4zNDL/2wBDAQkJCQwLDBgNDRgyIRwhMjIyMjIyMjIyMjIyMjIyMjIyMjIyMjIyMjIyMjIyMjIyMjIyMjIyMjIyMjIyMjIyMjL/wAARCACFAMgDASIAAhEBAxEB/8QAHwAAAQUBAQEBAQEAAAAAAAAAAAECAwQFBgcICQoL/8QAtRAAAgEDAwIEAwUFBAQAAAF9AQIDAAQRBRIhMUEGE1FhByJxFDKBkaEII0KxwRVS0fAkM2JyggkKFhcYGRolJicoKSo0NTY3ODk6Q0RFRkdISUpTVFVWV1hZWmNkZWZnaGlqc3R1dnd4eXqDhIWGh4iJipKTlJWWl5iZmqKjpKWmp6ipqrKztLW2t7i5usLDxMXGx8jJytLT1NXW19jZ2uHi4+Tl5ufo6erx8vP09fb3+Pn6/8QAHwEAAwEBAQEBAQEBAQAAAAAAAAECAwQFBgcICQoL/8QAtREAAgECBAQDBAcFBAQAAQJ3AAECAxEEBSExBhJBUQdhcRMiMoEIFEKRobHBCSMzUvAVYnLRChYkNOEl8RcYGRomJygpKjU2Nzg5OkNERUZHSElKU1RVVldYWVpjZGVmZ2hpanN0dXZ3eHl6goOEhYaHiImKkpOUlZaXmJmaoqOkpaanqKmqsrO0tba3uLm6wsPExcbHyMnK0tPU1dbX2Nna4uPk5ebn6Onq8vP09fb3+Pn6/9oADAMBAAIRAxEAPwD1thIZdsjfKOSvsP8AIrSgjmRP3apyOd3bjiqrAmXOxhlSOec4xitO3kV4gVyPY9alDBDLkbgmO+Cac+AAx/hOaRXG5s4HPrQ7KY2AYcjHWmA+mI64IyOp/nTyy/3h+dNj6fif50ADEEgBu/Y0ojUf3v8Avo0rdV+tLQA3YByvX35pQc8HrS0hKngkUAQ3iSNbnyj8w5x61lpGBMGljUNjBGB+GP1rawR05HpTMRf3Bkc420LRiauRRygRgAZUdMdvaolurlsfuI8c/wDLTn24xVWd/K3yttjGM7uMgfXvSQXReVVliMTuMxkn74/ofanPRqxELtMvxzSsp8xFU9sNkfyFFIrbhSk4Fawta6MpNt2Y122rVSRup9KklfJqq7Z4HSt4ROacriFyabRRWxkFFFFABRRRQAUUUUAWvLdDzlmOcgccfnV2FSANm35uW/8ArelRKhGWDE7lA+mKnEYUfKdo9zmvMPXJFUBz9BSnGV+tMDlX+ZTjA5HIp0iF0wGIPUEUAOI9qqujw/O07kDaMY9P8c/pUqvIzlSQpHbbnPvShGIIlZXU9tmP60AQRRMUT/SJXwQMsMdB/WplhdXB85yN2cH6Yx/WnhVQKqgKM9AKkoAKg+zLvyNgGemwVPSUALSUZpsjrHGzt90DJxQBTuLKGSZJHDNsPCk/Ln1xSXFulxCY3yO4I6qexFPFwk75TJGOPlNOrWK01OeUnzadCjbzP5hgmIFwgz7SL/eFWJJOKZdwR3CjdlWU5V1OCD7VSLyxZjnYMOokHH5+lSl7OXM9v61FK1RWjuSSNngVHRRXejhYUUhYCmFyadhNkhIHWmF/SmUVVhXHbzT9w9aioosK5LuGetFRUUco7m3G/wDo6O5CjGCScUGb5igMZ6YyaemcnAGCeKkYgfwgsewryj2Rq/PlXAVhjp/On7ip55HqO1RyWyS480ByOx5AoW3RN3lhUZurKvNAEuRuznIxjil4qIowYbtjr6kcipBGg6KB9OKAA9V+tKeeKY25WXuM024yyqUPKn8RTSuJuyJegoqvvf8AvUEk9SfzquRmftUTl1XqaikcONuOOKZRVKCRDqNjVRUGEUKPQDFKelLTXOKszbIn7VRkPz49TgVamkwvv2qkhDFnzkZ2j+v6/wAqc21Gy3en9ehnFXd3shVUIoVRgDgUMcChmx9aiJyc11Rgkkkc8pNu4UUUVZAUUUUAFFFFABRRRQBvSnaiqCQWOOKljjWMELnnqSck01UAIbaMgdakA4z3ryT2xsjFVJCkntgZpInZhhwQfXGKfjApeaAEPIxRyOnPsaWoPMYMe4z0ppN7EuSW5KSCV9c9KjnbG0cjPelMiNjJII9qrmJSysd5YHOS5x+XSnFO5MpK24+iiitjnCiiigAqB2yfanSP27VUecNkR8/7Xb/69Dko6slpy0Qyd9z7QcH+VQk7VCjsKUqFyw5bHJ9ajNa0YNvnl/wxlUlZckQooorpOcKKKKACiiigAooooAKKKKAOiDHgYOe/FLv9j+VMG7nacgcetP3gjB6ivJPbF3jPQ/lTd5bscfShmAwAOfSlXLDNAAG/2T+VVpgzZ2gA56HireKhmyTyvyj9aqLszOoroijUqgU4yPSnU5yvAXoBim1qncwaswooopiCq8twwZliUErwST3ovLoW0ORzIx2xr6moIoxDCq5yepPqe5rCq5P3YOzNYpJc0iOSJny08pYH+BeBTTxT5G5xURIAroo0YrW2py1ajeg127Uyiiu1KxzNhRRRQIKKKKACiiigAooooGFFFFAjowMLgdqaww26n7QfYe1DdxXkntkPnRbd2GOe23mpVkUrk/L7GmLCgbI3ZB/vk1IRkgfnQIMkjcTgVTMKMSzAkk561dZgqnPAqqOgrSCM6jaFooorQwCkJxS1HPIIomc9uAPU9hSbSV2Fm9EZ+3ztTmlYfLEojTPY9Tj8xUrt1NJCjJHhvvEkn6mkkOFxWWGTqXl3HiJWtHsiInuaiY5NPf7tR16UUcMmFFFFUSFFFFABRRRQAUUcd6XA9aBiUU7bke9JjnFFwsJRS9BiigDo+QM56UmeT6Ubj/zzb8x/jUeZC+CjBQMEYHP45ryT2hS6qwUJlj2A6ChpNucctj/IpAwRSI4mH5f41QaEBhu3bj1IC81SRE5cq1LrMW6gUlIg2oABjA6UtapWOdu7CiiimIKo7zcTb2yI15Qevv8A5/rVi7lEFnNKxwFQnNVLTD73UEDO0ZPUD+XpXBjJy5owWz3OqhBcspvoT4wKrSHLVYb7tVnGHNenRgoxsjzqsnJ3ZE/amVI4yKjrpRg9woopjsRxVCFLAHk06oTnFORsDk0WAkoozmikAUUUUAKDg044K5NMpc/JSaGhd/GABRTaKLBc6PknIPaoVWTGQdu7kq2Tg1K6DZtwxB4ODg0MOO3415R7QiF87HVen3gajZSh56djU3XGQDS8A4PQ1SlYiUU0V6KkkCjGAAfao61TuYSVnYKKKKZJS1WPzdOkGCSMHH4ipII/LjAzkgcn196W+DGwn2/e2HH5VXtb21ZAn2hDIBhgWwc/jXLKF68ZPszdSfsXFdyV+lVpPvVYd0x99fzqCQc57GvRg0cE0MqGpqibhjWqMpDCB19eKiPWpiAetRMuDWiJDPA5ptL354pO9MCUOMdqcDk4qHilU4PTik0BNRTN/HvRv9P5UrAPopqtmnUAFFFFIDoZD+82gYOwkH06UyNn3gM2Qc8YxRRXkntk4oPK4oooArsdzHsF4ApKKK3jscstwooopkiN0qGW2hnGJY0kC9Nyg0UUWutRXaehUfS7Ln/Rk59qiGlwCXZC0kLf3kY/y6UUVXJFrYqVSa6spXstxp6ljKJlBxhkwfzFT28v2qASFdp9M5ooqKE5e0cb6BVjF0ee2opGDUbcn0oor0EcDGGkooqyRwHBpM8UUUhhRRRTEPjp+aKKhjAHIooopAf/2Q==' width='200' height='133' class=\"itemThumbnail\">\n",
       "                       </a>\n",
       "                    </div>\n",
       "\n",
       "                    <div class=\"item_right\"     style=\"float: none; width: auto; overflow: hidden;\">\n",
       "                        <a href='https://ags-enterprise4.aeroterra.com/arcgis//home/item.html?id=796e509d65b04aacbe248e662cbc91dc' target='_blank'><b>SHIP_TRACK</b>\n",
       "                        </a>\n",
       "                        <br/>SHIP<img src='https://ags-enterprise4.aeroterra.com/arcgis//home/js/jsapi/esri/css/images/item_type_icons/featureshosted16.png' style=\"vertical-align:middle;\">Feature Layer Collection by pdiazm\n",
       "                        <br/>Last Modified: Mayo 08, 2017\n",
       "                        <br/>0 comments, 0 views\n",
       "                    </div>\n",
       "                </div>\n",
       "                "
      ],
      "text/plain": [
       "<Item title:\"SHIP_TRACK\" type:Feature Service owner:pdiazm>"
      ]
     },
     "metadata": {},
     "output_type": "display_data"
    },
    {
     "data": {
      "text/plain": [
       "'796e509d65b04aacbe248e662cbc91dc'"
      ]
     },
     "metadata": {},
     "output_type": "display_data"
    },
    {
     "data": {
      "text/html": [
       "<div class=\"item_container\" style=\"height: auto; overflow: hidden; border: 1px solid #cfcfcf; border-radius: 2px; background: #f6fafa; line-height: 1.21429em; padding: 10px;\">\n",
       "                    <div class=\"item_left\" style=\"width: 210px; float: left;\">\n",
       "                       <a href='https://ags-enterprise4.aeroterra.com/arcgis//home/item.html?id=63af3620f99240ba8f05b10242124e42' target='_blank'>\n",
       "                        <img src='data:image/png;base64,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' width='200' height='133' class=\"itemThumbnail\">\n",
       "                       </a>\n",
       "                    </div>\n",
       "\n",
       "                    <div class=\"item_right\"     style=\"float: none; width: auto; overflow: hidden;\">\n",
       "                        <a href='https://ags-enterprise4.aeroterra.com/arcgis//home/item.html?id=63af3620f99240ba8f05b10242124e42' target='_blank'><b>SHIP_TRACK</b>\n",
       "                        </a>\n",
       "                        <br/>SHIP<img src='https://ags-enterprise4.aeroterra.com/arcgis//home/js/jsapi/esri/css/images/item_type_icons/layers16.png' style=\"vertical-align:middle;\">Service Definition by pdiazm\n",
       "                        <br/>Last Modified: Mayo 08, 2017\n",
       "                        <br/>0 comments, 0 views\n",
       "                    </div>\n",
       "                </div>\n",
       "                "
      ],
      "text/plain": [
       "<Item title:\"SHIP_TRACK\" type:Service Definition owner:pdiazm>"
      ]
     },
     "metadata": {},
     "output_type": "display_data"
    },
    {
     "data": {
      "text/plain": [
       "'63af3620f99240ba8f05b10242124e42'"
      ]
     },
     "metadata": {},
     "output_type": "display_data"
    },
    {
     "data": {
      "text/html": [
       "<div class=\"item_container\" style=\"height: auto; overflow: hidden; border: 1px solid #cfcfcf; border-radius: 2px; background: #f6fafa; line-height: 1.21429em; padding: 10px;\">\n",
       "                    <div class=\"item_left\" style=\"width: 210px; float: left;\">\n",
       "                       <a href='https://ags-enterprise4.aeroterra.com/arcgis//home/item.html?id=7e950a59e12c468ea16befb361afe30a' target='_blank'>\n",
       "                        <img src='data:image/png;base64,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' width='200' height='133' class=\"itemThumbnail\">\n",
       "                       </a>\n",
       "                    </div>\n",
       "\n",
       "                    <div class=\"item_right\"     style=\"float: none; width: auto; overflow: hidden;\">\n",
       "                        <a href='https://ags-enterprise4.aeroterra.com/arcgis//home/item.html?id=7e950a59e12c468ea16befb361afe30a' target='_blank'><b>TRACK_LINES</b>\n",
       "                        </a>\n",
       "                        <br/>TRACKS<img src='https://ags-enterprise4.aeroterra.com/arcgis//home/js/jsapi/esri/css/images/item_type_icons/layers16.png' style=\"vertical-align:middle;\">Service Definition by pdiazm\n",
       "                        <br/>Last Modified: Mayo 09, 2017\n",
       "                        <br/>0 comments, 0 views\n",
       "                    </div>\n",
       "                </div>\n",
       "                "
      ],
      "text/plain": [
       "<Item title:\"TRACK_LINES\" type:Service Definition owner:pdiazm>"
      ]
     },
     "metadata": {},
     "output_type": "display_data"
    },
    {
     "data": {
      "text/plain": [
       "'7e950a59e12c468ea16befb361afe30a'"
      ]
     },
     "metadata": {},
     "output_type": "display_data"
    }
   ],
   "source": [
    "from IPython.display import display\n",
    "\n",
    "items = gis.content.search('title:track')\n",
    "for item in items:\n",
    "    display(item)\n",
    "    display(item.id)"
   ]
  },
  {
   "cell_type": "code",
   "execution_count": 3,
   "metadata": {
    "collapsed": true
   },
   "outputs": [],
   "source": [
    "item = gis.content.get('b2c97de923214dfca44ee71420a56e54')"
   ]
  },
  {
   "cell_type": "code",
   "execution_count": 4,
   "metadata": {
    "collapsed": false
   },
   "outputs": [
    {
     "data": {
      "text/plain": [
       "'TRACK_date'"
      ]
     },
     "execution_count": 4,
     "metadata": {},
     "output_type": "execute_result"
    }
   ],
   "source": [
    "item.title"
   ]
  },
  {
   "cell_type": "code",
   "execution_count": 5,
   "metadata": {
    "collapsed": false
   },
   "outputs": [
    {
     "data": {
      "text/plain": [
       "['TRACK']"
      ]
     },
     "execution_count": 5,
     "metadata": {},
     "output_type": "execute_result"
    }
   ],
   "source": [
    "item.tags"
   ]
  },
  {
   "cell_type": "code",
   "execution_count": 6,
   "metadata": {
    "collapsed": false
   },
   "outputs": [
    {
     "data": {
      "text/plain": [
       "True"
      ]
     },
     "execution_count": 6,
     "metadata": {},
     "output_type": "execute_result"
    }
   ],
   "source": [
    "item.update(item_properties={'tags':'TRACK'})"
   ]
  },
  {
   "cell_type": "code",
   "execution_count": 7,
   "metadata": {
    "collapsed": false
   },
   "outputs": [
    {
     "data": {
      "text/plain": [
       "['TRACK']"
      ]
     },
     "execution_count": 7,
     "metadata": {},
     "output_type": "execute_result"
    }
   ],
   "source": [
    "item.tags"
   ]
  },
  {
   "cell_type": "code",
   "execution_count": 8,
   "metadata": {
    "collapsed": false
   },
   "outputs": [
    {
     "data": {
      "text/plain": [
       "'C:\\\\temp\\\\metadata.xml'"
      ]
     },
     "execution_count": 8,
     "metadata": {},
     "output_type": "execute_result"
    }
   ],
   "source": [
    "item.download_metadata(save_folder=r'C:\\temp')"
   ]
  },
  {
   "cell_type": "code",
   "execution_count": 9,
   "metadata": {
    "collapsed": false
   },
   "outputs": [
    {
     "data": {
      "text/plain": [
       "'C:\\\\temp\\\\thumbnail.JPEG'"
      ]
     },
     "execution_count": 9,
     "metadata": {},
     "output_type": "execute_result"
    }
   ],
   "source": [
    "item.download_thumbnail(save_folder= r'C:\\temp')"
   ]
  },
  {
   "cell_type": "code",
   "execution_count": null,
   "metadata": {
    "collapsed": false
   },
   "outputs": [],
   "source": [
    "my_map.add_layer(item)\n"
   ]
  },
  {
   "cell_type": "code",
   "execution_count": null,
   "metadata": {
    "collapsed": true
   },
   "outputs": [],
   "source": [
    "my_map.center = [-34.58,-58.42]"
   ]
  },
  {
   "cell_type": "code",
   "execution_count": null,
   "metadata": {
    "collapsed": false
   },
   "outputs": [],
   "source": [
    "my_map.zoom = 12\n",
    "my_map"
   ]
  },
  {
   "cell_type": "code",
   "execution_count": null,
   "metadata": {
    "collapsed": false
   },
   "outputs": [],
   "source": [
    "me = gis.users.me\n",
    "me"
   ]
  },
  {
   "cell_type": "code",
   "execution_count": null,
   "metadata": {
    "collapsed": false
   },
   "outputs": [],
   "source": [
    "me.access"
   ]
  },
  {
   "cell_type": "code",
   "execution_count": null,
   "metadata": {
    "collapsed": false
   },
   "outputs": [],
   "source": [
    "user_groups = me.groups\n",
    "print(\"Miembro de \" + str(len(user_groups)) + \" grupo/s\")\n",
    "\n",
    "# groups are returned as a dictionary. Lets print the first dict as a sample\n",
    "user_groups[0]"
   ]
  }
 ],
 "metadata": {
  "kernelspec": {
   "display_name": "Python 3",
   "language": "python",
   "name": "python3"
  },
  "language_info": {
   "codemirror_mode": {
    "name": "ipython",
    "version": 3
   },
   "file_extension": ".py",
   "mimetype": "text/x-python",
   "name": "python",
   "nbconvert_exporter": "python",
   "pygments_lexer": "ipython3",
   "version": "3.6.0"
  },
  "widgets": {
   "state": {
    "46f31c8c652f4ee9ac8649db20f417a9": {
     "views": [
      {
       "cell_index": 11
      }
     ]
    },
    "da6d9ff8276644069b1b6f02748193a9": {
     "views": [
      {
       "cell_index": 0
      }
     ]
    }
   },
   "version": "1.2.0"
  }
 },
 "nbformat": 4,
 "nbformat_minor": 2
}
