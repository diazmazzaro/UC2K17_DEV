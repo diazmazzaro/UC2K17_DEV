{
 "cells": [
  {
   "cell_type": "markdown",
   "metadata": {},
   "source": [
    "# Mover contenido de un usuario existente a otro nuevo\n"
   ]
  },
  {
   "cell_type": "code",
   "execution_count": 24,
   "metadata": {
    "collapsed": true
   },
   "outputs": [],
   "source": [
    "from arcgis.gis import *"
   ]
  },
  {
   "cell_type": "markdown",
   "metadata": {},
   "source": [
    "Cree una conexión con el portal."
   ]
  },
  {
   "cell_type": "code",
   "execution_count": 25,
   "metadata": {
    "collapsed": false
   },
   "outputs": [],
   "source": [
    "gis = GIS(\"https://ags-enterprise4.aeroterra.com/arcgis/\", \"PythonApi\", \"test123456\", verify_cert=False)"
   ]
  },
  {
   "cell_type": "markdown",
   "metadata": {},
   "source": [
    "Establecer variables para el usuario actual que se está realizando la transición y para que se cree el nuevo ID de usuario"
   ]
  },
  {
   "cell_type": "code",
   "execution_count": 26,
   "metadata": {
    "collapsed": true
   },
   "outputs": [],
   "source": [
    "orig_userid = \"afernandez\"\n",
    "new_userid = \"pmayo\""
   ]
  },
  {
   "cell_type": "markdown",
   "metadata": {},
   "source": [
    "Valide que el ID de usuario original es válido y accesible."
   ]
  },
  {
   "cell_type": "code",
   "execution_count": 27,
   "metadata": {
    "collapsed": false
   },
   "outputs": [
    {
     "data": {
      "text/html": [
       "<div class=\"9item_container\" style=\"height: auto; overflow: hidden; border: 1px solid #cfcfcf; border-radius: 2px; background: #f6fafa; line-height: 1.21429em; padding: 10px;\">\n",
       "                    <div class=\"item_left\" style=\"width: 210px; float: left;\">\n",
       "                       <a href='https://ags-enterprise4.aeroterra.com/arcgis//home/user.html?user=pmayo' target='_blank'>\n",
       "                        <img src='https://ags-enterprise4.aeroterra.com/arcgis//home/js/arcgisonline/css/images/no-user-thumb.jpg' class=\"itemThumbnail\">\n",
       "                       </a>\n",
       "                    </div>\n",
       "\n",
       "                    <div class=\"item_right\" style=\"float: none; width: auto; overflow: hidden;\">\n",
       "                        <a href='https://ags-enterprise4.aeroterra.com/arcgis//home/user.html?user=pmayo' target='_blank'><b>Pablo Mayo</b>\n",
       "                        </a>\n",
       "                        <br/><br/><b>Bio</b>: Usuario de prueba \n",
       "                        <br/><b>First Name</b>: Pablo\n",
       "                        <br/><b>Last Name</b>: Mayo\n",
       "                        <br/><b>Username</b>: pmayo\n",
       "                        <br/><b>Joined</b>: May 10, 2017\n",
       "\n",
       "                    </div>\n",
       "                </div>\n",
       "                "
      ],
      "text/plain": [
       "<User username:pmayo>"
      ]
     },
     "execution_count": 27,
     "metadata": {},
     "output_type": "execute_result"
    }
   ],
   "source": [
    "olduser = gis.users.get(orig_userid)\n",
    "olduser"
   ]
  },
  {
   "cell_type": "markdown",
   "metadata": {},
   "source": [
    "Crear un nuevo ID de usuario"
   ]
  },
  {
   "cell_type": "code",
   "execution_count": 9,
   "metadata": {
    "collapsed": false,
    "scrolled": true
   },
   "outputs": [],
   "source": [
    "newuser = gis.users.create(new_userid, \"pm123456\", \"Pablo\", \"Mayo\", \\\n",
    "                           new_userid, description=olduser.description, \\\n",
    "                           role=olduser.role, provider='arcgis', level=2)\n"
   ]
  },
  {
   "cell_type": "code",
   "execution_count": 28,
   "metadata": {
    "collapsed": false
   },
   "outputs": [
    {
     "data": {
      "text/html": [
       "<div class=\"9item_container\" style=\"height: auto; overflow: hidden; border: 1px solid #cfcfcf; border-radius: 2px; background: #f6fafa; line-height: 1.21429em; padding: 10px;\">\n",
       "                    <div class=\"item_left\" style=\"width: 210px; float: left;\">\n",
       "                       <a href='https://ags-enterprise4.aeroterra.com/arcgis//home/user.html?user=afernandez' target='_blank'>\n",
       "                        <img src='data:image/png;base64,/9j/4AAQSkZJRgABAQEAYABgAAD/4QBoRXhpZgAATU0AKgAAAAgABAEaAAUAAAABAAAAPgEbAAUAAAABAAAARgEoAAMAAAABAAIAAAExAAIAAAARAAAATgAAAAAAAABgAAAAAQAAAGAAAAABcGFpbnQubmV0IDQuMC4xNgAA/9sAQwACAQECAQECAgICAgICAgMFAwMDAwMGBAQDBQcGBwcHBgcHCAkLCQgICggHBwoNCgoLDAwMDAcJDg8NDA4LDAwM/9sAQwECAgIDAwMGAwMGDAgHCAwMDAwMDAwMDAwMDAwMDAwMDAwMDAwMDAwMDAwMDAwMDAwMDAwMDAwMDAwMDAwMDAwM/8AAEQgAlgCFAwEiAAIRAQMRAf/EAB8AAAEFAQEBAQEBAAAAAAAAAAABAgMEBQYHCAkKC//EALUQAAIBAwMCBAMFBQQEAAABfQECAwAEEQUSITFBBhNRYQcicRQygZGhCCNCscEVUtHwJDNicoIJChYXGBkaJSYnKCkqNDU2Nzg5OkNERUZHSElKU1RVVldYWVpjZGVmZ2hpanN0dXZ3eHl6g4SFhoeIiYqSk5SVlpeYmZqio6Slpqeoqaqys7S1tre4ubrCw8TFxsfIycrS09TV1tfY2drh4uPk5ebn6Onq8fLz9PX29/j5+v/EAB8BAAMBAQEBAQEBAQEAAAAAAAABAgMEBQYHCAkKC//EALURAAIBAgQEAwQHBQQEAAECdwABAgMRBAUhMQYSQVEHYXETIjKBCBRCkaGxwQkjM1LwFWJy0QoWJDThJfEXGBkaJicoKSo1Njc4OTpDREVGR0hJSlNUVVZXWFlaY2RlZmdoaWpzdHV2d3h5eoKDhIWGh4iJipKTlJWWl5iZmqKjpKWmp6ipqrKztLW2t7i5usLDxMXGx8jJytLT1NXW19jZ2uLj5OXm5+jp6vLz9PX29/j5+v/aAAwDAQACEQMRAD8A/fhnzSHk/jT2AA4phP8AOgBHHNNApzHnqabn3oAcgw1SBqwfiD8SdA+Efg7UPEfijWtN8P6DpMRnvNQ1C5S3t7ZB1Z3YgAfU1+a37VP/AAcP3F5eXWj/AAF8GxatGh8seLvFQktdPb/btrJcT3C+jSNAp6jcMGplJRV2aU6c5u0Fc/Ufd9a5/wAafFnwt8OLVrjxF4m0DQYI/vSajqENqi/UyMBX8+vxb/a2+Of7Q88j+OfjR47vIJid2naFdnw7pwB/g8qz2O69sSSPnvk815S3wm8Nz3v2q50Ww1C873V7H9ruD9ZJNzn86wliorY7oZXUfxNI/oG1f/gqX+zboV2be5+PHwlWVTgrH4ps5cH0JWQirHh//gpx+zn4ouFhsfjt8JZppDtVG8V2UbMfQBpAT+Ffz+at4da30WaPRYdLsb7b+5eW03xKfdVKk8ehH49K87vT8SNMYrqng/wT4steh+w3ZtZsf7k6Mh+m8Ulir9PxNJZZb7X4H9UPhP4haF49sUutC1zSNatpBuSWwvI7mNh6hkJBryP/AIKTftYar+xB+xp4r+J2kaTa65eeG59OBs7kssckU+oW1tK2V5ysczsPdR2r+b3wf408IeHNfhZ9J1L4Y+IJXAimUNo8sr/9M7u3ZVdvQB8+1evftD/t+/HTSv2c5Ph3P431T4i+E/F2p6dYy6N4j23l46x3UVyRDqDfvkyICC0plAUk4BwaqOITdnoc9TATiuaLTP6T9Y1i38P6TdX99cQ2dlZRPPcTzMEjhjUFmdmPAUAEknoBXxX/AMEc11f47a78cv2kNSuL5tN+OXizb4UgmdhGnh/S1eysZkjP3POIml6DIZT3yfmLxX/wVMt/+C7jQfA/4ZrrHw1+HtvZjU/jj4k1i5itZNE0xJCk2j28oYo73JRkacEIIiTg5ZR97fs7ft3fs26x4g8P/CL4X/E74c6xqGm2g0/StB8PapDeeTBbxY8tfJLKAiJ68YroOE+hMtRlqN5/umjef7poAMtRRvP900UAKxwKjY4P409xkUxhlunegBrtyK8f/bS/bc8E/sLfCSTxR4wuppJrpzbaRo9nh9Q1y6xkQQISMnHLMxCIoLMQBmui/af/AGk/Cv7I3wR13x94yvPseiaDBvZUXfPdysdsUEKdXlkcqiqOpYdsmvwI+Pv7QHi79sL42ah8SPHsgXV71Tb6XpUcnmWvhmw3bktIexboZZesj88KEVcqtRQR1YXCutK3TqdD+1x+1548/bs8errfj67WLSLGczaL4XtJCdM0UdFYjj7RcY6zSDg5CCNSQfORxS0V50pOTuz6KnTjTjywQUUUdak0OP8AG/x08N/D3VfsGpXd0L7aH8i3sZ7lsHp/q0YD8TWUn7TOg3I/c6b4unHrHoF3g/8Ajlei4oxVaEWn3/D/AIJ5lrPx28M6/ps1nq2g+KJbKZdssd34cunjYe48s1y3grWPCmi+KLe08NeMvs+my7i/hrV0kUqCpBNqZgssbckbQWXBOAK90bCj0rxz46fGr7T4Z1S28N6dDrBtlazk1F/9RBdS/uo4YTj95NvdcheFGcnPFVHXRGVS696T/D/glDwl8PPDd14k8L+KPCNnpE03gQWmoXHhCe1H2HXR5kN2LW9BG6aGUJt+bcuTu5INf09fsXfGHwH+03+zj4P+IngHT9Ns9D8Q6eksEMFrHDJYOPkltXCgbXikV42UcAoa/ml1zwYslvb3PhmZI/G3ga0htWjPyDUIfLVvs8v96OQA7W/hcZHRhX2x/wAECv8AgoRa/s9ftF2/gPVrySH4X/Ha68/RjOdq6B4mxte2bP3FugjKR/z3iAH3zXVQqa8rPLx2H051v1/ryP3a2/5xRt/zijb9aNo966jyw2/5xRRt+tFACt0pjdfxpz9K+dP+Cp/7VVx+yJ+xf4q8QaTcR2/irVlXQfDZbnGoXWUjkx3ES75iP7sLUN21Y4xbdkfl9/wV3/bUm/bO/axuvDOk3XmfDP4RX0ljZLG2Yta1tQUurs9mW33Pbx+jidu64+WovF1hL4nuNG88JqVvCtz5DDa0kR43pn7ygggkdD16ipfDmgw+GNCtbC33GO1QLuc7mkPVmY92Y5JPckmsb4oeC9I8TaI15qUz6dNpKPc2+qQP5Vxp+BlnV/TA5U5VhwQRXlznzyuz6ejR9lTUY/M0fDPjjTPF3nLZ3Gbi1bbcW0qmK4tz6PG2GXPbIwRyMitKG6huZJFjkjkaFtkgUgmNsBsH0OCDg9iKg0H9hLx58QvBXhGTxNcfDXWPFXiTR49X0/Sv7eOg+KFtZs+WTG6qhZlxuCSgZOCoxXMP+wr8b/gRqNxNYeA/i0sEsMcDp/Y9nr8ZWPIjINpPvJVTt3NlioXJ4FZ80HomP2su39f15nZYoxXK+GbD4nWF60etfD/4k3MfIAi+HupW0gPucuP0FdE2neNGQ+T8JfjFct2WPwbfc/mgoLVSLJZ5o7aFpJGSONBlmY4VR7muA1n9o7Qftktj4divPGWqRnabfRo/Pjjb/ppNxFH77mz7VqN+xr8Vvjz4o8xfgD8XNYWR8xQ+JpItF0q39P3ckq7h7sjGvqL4If8ABFz4oeJrO3Xxr4s8K/DPQ1A/4lPg+2+33wTuhuZkWGNvdInA7E0pVKcFeTJ5pydoL+vnZHxf4nk1DU7KO4+IGr23h/TbxxHb+HtKmZ7i+Y9InlUCSZj08uFQD0ywr6W03/gk740+KH7JGteNL3T7jwZ4j0G3TVPAPhHaIZfNt2E2byNeBJPGrxJB/wAsw+5vmOE+/v2af+CbPwi/ZY1NNW0DwyNS8UBdr+IdbnbUtUc9ysspPlZ9Igi+1b37bvg7xD4u/Zq8QSeEC6+LvD/k6/oiqcefd2UyXKQH/Zl8sxEd1lNcc8deSjT013NPq75W5/18z8S/EHiKOTVfBvxM0lmTT9TWHTNXiPGbedgI2cdmgnYA55AZxXeeKvh1ZeIPCl9ptqP7KmuJftkF1aDypbW7DCRLlCuMSLIFfcOcir37Q3wz0d/H2tWOjq9r4C+N2if8J34VbH/Hkt6N15agfwvb3L79n8IlUcYwL1pA0FrHGzlmRQpb+8QOtd/NdJozpx5k79f6f3n7h/8ABIH9uGf9u/8AYt0XxDrRjj8deGZ38NeLoEIAj1O2VN8gHZJo3inXjpMB2r6i/P8AOvxG/wCCD3x2k+CX/BRnVPAs83l6F8aNAeWCInCjWNNBkDD3ks3lB7n7Ovoa/bjb7frXp05c0Uz5vEUvZ1HAX8/zopNv+z+tFWYg3Ir8cf8Aguv+0zH8YP2stN+HOnziTSfhTa+ffhDlZNWvY1baf9qC12Yx/wA/jg9MD9h9V1BNK0y4upM+XbxtK+PRQSf5V/MlF8U774uTeKPiNqkizah441nUfEszSSBVCzzyPEm48BUh8pBnoqD0rnxErQsd+XU+ard9NR/jDxhpvgPw9capq11HZ2Nqu55G/IAAcsxPAAySTxWh/wAE4P2edf8A+Cgn7RV1LrdrcQfDfw5cw3GvwH/VERkyW+lk9GnlbbJcAZCRgR8Fq5z9mb/gn348/wCClvxkXWrXVtQ0n4Y6a4B8Qtb7bSBgAJItMVuLq4J3D7WwCR87QWAFftF+z7+z54R/Zd+FGl+C/BOj2+jaDpKbY4kGZJnP3pZX6ySueWdskmvIxWIjTjyx+L8v+Ce7TjKrK7+Ffj/wP69Nrxd8OPD3xA0Yabr2haPrWnqMC2vrOO4hXtwrggV59YfsN/C7QvFVprWjeGm8N6jYyrNE+iald6ZFuBz80VvKkbg45VlII6g163Sd68iM5LRM7nGL3RkeDPBVn4E02azs7jVbiO4uJLpm1DUri/kDOckK8zuyoOyAhV7AVrnivIPi38a/ifofi240nwP8HbrxRHBgf2tqniO00jTXJAPykedcMBnBPkjkHrxnS+Ed/wDGLWNVSbxzpvw50HT8Za10e9u9SuCew82SOBV+uw/QdafI7Xf5i5lflX5Hpp4FBOBSNnb/AJ5rwjxX+1x42+G+vTQeIPgP8R7jS0kKpqfhqay1yN0B4cwpKlwBjnAjLexpRi5bDlJR3Pd92aN2a4r4QfH3w78brOZtHk1W1vLYA3GnavpdzpV/bf79vcIkgHbO3HvXaZ96TTTsxqSauj4U/wCCnv7Ja2/7P15qXhDwzdRN8K7qfxzp1xDKsiTRTyyNq+nRxAb0DQs0yKMqXCgY2gV8a6XqcGt6Zb3lrKs1vdRLNE68h0YAgj6giv2xu7WO+tZYJkSaGZSkiONyupGCCO4I7V+H37THhST9gr9pDWvhvqFnN/wjC6gt/wCH74vhYtIu3byeo5WC4JtmOflHlk5Br08HUclyPc5KyVOXN0f9f16G14V+I7fAr43fDH4iRy+T/wAIH4w0zUp5Om20edbe7/D7NNNkd6/paBBH/wBev5c/jynm/BXxRt5ZdMndfqqEj9QK/ps+Ed9Pqfwo8MXN1u+03Gk2skxbrvaFS2fxJr2sK/daPCzSNqifkdF+H60UmM0V1HmHwN+1b+0x8ZP2lP2nfE3wx+D3ivT/AIa+Afh6Y9P8V+LxpcOqanqWpyxLM2n2MU6tAixQyRebLIrENKFC/Ka+FtU/4IReF/hpq2ka5o/j7xd8SrHwnrcF9rvgnWWtptP1O3eUNNEIbZIvLZUZpEjYMhKBduDXvvwg8Z6t4V/4Jj2HjKzvhp/iz4qSx6w+osm9rXUfEOpIFnIP3jE18mAe0QBzXp3wQ/Yb8K/s7/FqPxX4TudQ0+S70AaNrdszCT/hIplmEseoXUh+eS6UtODISdwnbpgV87iMbUc3rZXaS9D6bC4KEYLTVpNu/c9g0TRLPw3pFtYadaW1jY2cYigt7eJYooUAwFVVACgeg4q1RRXknrBSY5paKAON/aG+LcXwB+A/jTxzNY3GpReD9DvNZe0h/wBZci3geXYp7FtuM9s5r8yv+CRH/Bfz4gftzftnD4beN/Cfh+103xDb3Vzpdxo8UqSaa0KGTZKXdg6FFI3YBDbexwP1hvrGHU7Ka2uYY7i3uEaKWKRQySIwwVIPBBBwQa8f/Z5/4J7/AAX/AGUfHer+Jvh58O9B8La7ritHd3lqrtIUZgzRx72YRIWAJSMKvA44FdNKpSjTlGcbt7Psc1anVlUjKErJbrucR/wVs/b6vP8AgnJ+yHeePtK0OHX9auL+DStOguSwtYppQ7eZNtIbYqo3AIJJUZGc15Z/wQ8/4Kx+IP8Agpz4E8aR+LvDum6N4i8ET2oluNMEi2d7DciXZhXZisimF9w3EEFSMc19ifGz4HeEv2jvhrqXg/xxoNj4k8N6soW6sbtco+DlWBBDKykAhlIIIyCK5/8AZe/Y9+G37GPgabw78NPClh4X0u6n+03KwM8kl1LjG+SSRmdyBwMnAHTFKNSl7FxcfevuEqdX2ympe72PSaP89adj2ox7VznSN4/ya+Wv+Cqn7Av/AA278FIJNChsF8feEzJPozXbbLfUYpF23GnztjiKdQOf4XSNuMHP1Pj2ox7VdOo4SUo7k1IKceWR+Dfw8/Zs+JHxo+Jun/AeXT/GfhXxbqEEn2qTXtK2R6NpqFFluZJhlLvYPkjaNsSNIm7uw/XXw5+yh4w8M6Us0P7RHx5m8SRxjZqU2vRNbrKBw32Hyfs3l5H+q2bccV6Ufhjp1v8AFK78aRwtJr0+jx6KpdhsWCOaSYKOMjc8nzHvtXjivmv4Q/Fj4pfB39pTw74c+JuvLrtx8RBJcX2nRW0S6f4XmlNy9nDp8yosk0KpatDN525vMkhdWAdlruli6k/4btY4fq1NP96ubp6H3N/wTw/af179of4Xa5pXjeGzt/iR8OdXfw54mFmhjtryVY0mt72FScrHcW8sUoU/dZnTnbmivzn/AGxP+Cjrf8Ezf22/EU1vN5MfxF8KaLdyrnG6a1uNThLf98PEM/7I9KK+iwtT2lKM31PmcVTVOrKC6M9U+CPwW0T9oD/gn/Z/CbWrrUtOk8JqvhHU30+f7Pf6VqGkXSokiNg+XIsttFMuQcqyHBBr1T4bw2PwC0nwx4L1rxtrvirxB4guboWV5rkyTahqLIr3EmfLREWONBgYUKBsHVhn2j9oX/gnrY/Ebx7qXjjwF4q1L4X+PtYRE1K/srSO+07Wyi7Y2vbKQhJHVflEsbRS4AUuVAWvl74Nfs0+IPhT+2v8Q7r4ieNP+Fj+MNH0TS7fStR/stdMttKsbrznmitrZXcIJJrcb3Zmd/JXJwAB4WMwU6alO/u7+d2e/g8dCo4wS97bysj32iiivJPXA03nNOozzQA3nNBB9adnmgmgBpzjrQc4p2eKQnigBuTRk0rEYoJFACZNGTS5FAIoAjuLqO0jDTSJGrMEBdtoJJAA+pJAA7k185fED4O/Er4t/tn+DNW1Tw74O07wH4D1CfUYNcttXmk1XU4zaskNq9qYgke24fzGbzGBEaYAJIrof+Ck9otx+wl8ULhJGhvNK0KbVNPnRtr217bYuLWVT2ZJ442Huoq1oX7Nv7b3iDwHpUK6t+zbY3F5ZQmbWJ01d7uIsgLObMII/MGSdvnbc+grswuFqVE5U/Q4cViqVNqNS/f1Pjj/AIKB/wDBPzVv+Cn37fXiey0FJLpfhb4V0SwuzGCwimu5tRuNhx0byxGcejD1or9a/wBgr9iWx/Yj+FOoabJrd94w8Y+KtQfW/Ffia9jEdxr2oOqqZNi/LHEiKkcca8IiAcnJJX0+Hp+zpqHY+XxFT2lV1O57k1fIH7Tti3gT9vrRr3/l1+JHgyS1YnotzpF3vRfq8WqSEDuIG9K+v36V8sf8FZ9El0D9n/R/ihZpIbr4Na/b+KLryx8z6Xte21JfoLOeaXHrAvpUYqn7SjKCKwdX2daM33IKKjsr2LUbOG4gkWaC4QSRupyrqRkEH0IqSvjz7QKo6n4m03RL+ztbzULG0utRk8m0hmnWOS6fBbbGpOWbAJwMnANYfxs8JeJvHXwz1TSfCHipfBOv3sYjttaOmJqLWPI3MsLsqs23IBYkAkHBxivj39if9le1/Zd/4KL+NNJ8aeINe+JnjDWvC1pr/hrxZ4mnNxfLAJHt9RtoATsiCymBtsYBCTKMkVpCClFu+3QxqVHGSSW/U+7KOtJuo3VmbC0HpSbqC1AHDftB/Gmb4B+ApPES+EfFPjCztX/02DQII7i7tYcEmbyndGkUYwRHubnOMAkeWfskf8FV/gn+2v4hh0XwT4kvD4gmha4j0vU9LuLG5kjUbiyeYgRwBz8jNwK6P/goH8QdS8D/ALKviS10FiPFXjBY/Cvh9R95r+/cW0TD/c8wyHH8MbfWu8+Cfwg0n4GfCjwv4T0mCNbPwvpNvpNvJsAdo4Y1QZPvjJ9zWy5PZ3a16GLc3UtF6dTreKOKTd/nFG7H/wCqsTY8o/a30IfErwz4R+HccfnS/EvxZpehSRf89LNZxd32fb7FbXOfrX6DrtA6V8U/ADQG+Mn/AAUQhusedo3wa8NvcMwGU/tfVSYo1z/fisoJiR1C3qetfa34frX1GV0+Wgm+up8rmtTnrtLpoG4elFH4frRXoHmg6cVneKPDdj4y8N6ho+qW0V9pmqW8lnd28ozHPFIpR0YehUkfjWi3So25PXvQB+cP7HNzffBzVPFnwD8SXUs/iT4N3SWdhcTn59Y0CYGTTLwH+LEP+juR0ltnzjIr3Suf/wCCqv7PGvWFz4c/aE+HGmzap49+FkElvrGk2w/feK/Dkjb7uxA/imiIFxCD/HGygHzKd8MPiZofxl+HmjeKvDWoQ6roOv2kd7Y3UR+WaJxkHHUHsQeQQQcEV8vmWF9lU5lsz6rLcV7WnyvdG9Xz/wDt4fCbxNqWn+Efib4BsW1Lx78J9QbU7XTkba2vafKhivtPBPG6SLDJn/lrDH0zmvoCiuGEnF3R6E4qSszlPgp8aPDv7Qfw00vxb4Xvlv8AR9Wi3oSNssDjh4ZUPMcqMCro2CrAg9K6s8188/GX9kTxL4a8dal8Qfgd4isfBXjTVJPtGs6PqMDT+HPFbgY3XUKENDOQAPtEJD4+8HAGMvwv+3R468CSiw+L3wN8eeF7qP5Tq/heH/hKtHucfxobUG5QHk7XhDD3q/Z31h93X/gmftOXSf39P+B8z6ZI4pHIRDuICjkk9q8Nv/2/fDN5a7fDXhD4s+LdScfu7G08DanZMx95b2GCFP8AgUgxXC+Jvhd8dP22JH0zxx9l+CfwuucpfaFpGpLf+JtehPWCe8j/AHNpE68OsBdyCw8wDmhUn9rT+uw3WX2dfT/M2fhz4sh/bX/aj/4SawUXXwy+D9xcWej3nWHXfEDKYZ7mI/xRWkTSwK/RpLiXGfLBr6T29Kx/h94A0X4UeCNL8N+HNNtNH0PRbZLSysrZAkVvEgwqqP69T161s7v85qZyTemxVOLS13E29a5/4r/EvS/g18ONa8U61K0emaHavdT7F3SSYHCIvVnZsKqjkswHeuh3V5r8GfCH/DdX7V6rtM3wn+CmqJc304/1PiPxLFhobUdngsgwlkxkG4MK9YnFa4XDutUUF8/QxxWIVGm5vfp6n0P/AME+PgXqvwW+AK3niiGOHx148v5fFPiZAQ32e8uFRVtge629vHBbg9xBnvXuX/fNAUDvRt96+ujFRVkfHSk27sP++aKMD2oqiQbpUb8n8akbpUbdaAGvz2r88f2jvhDff8ExPiRq3jzw7p9zffs9+Lr57/xNptpEZJPh5fytmTUYI1yTp8zHdNGoHkNukAKM4X9Dm3cVHeWUeo2k1vcQxz286GOSORAySKRgqQeCCOMGsq1GNWHJPY1o1pUpqcNz5P8AD/iCx8V6HZ6npd5a6hp2oQrcW11byCSG4jYZV0YcMpBBBHBq5jmvMPix+wX46/Yj12+8Ufs96f8A8JT8O7yaS81j4WTXIiexdzukn0OaQ7YmYkk2kjCEknyzGeDymk/8FDPAer+E9X8RLNfQab4ViCeJtNmsLkeIfDNwZEXZdaaIjMkaqzM0nIAUEblO4fMYjA1KT7rufU4bH060b3s+x713oIzXO/DD4s+GPjV4QtfEHhHXtI8SaJeruhvdOukuIX6HG5ScH2PIroDx/DXG01ozuTvqhxGRQRkU0jjpQelAAUo2VT1zXbLwxo91qGpXlrp9hZRtNcXNxIscMCKMlmZsBQB1Jrw7wf4++In/AAUP1r+xfgfHdeF/hvvMerfFW/tNsM0YOHi0WGQf6VMeguGXyE6gyEAVtQw860uWCMMRiadGPNNnSePNd8TftH/Euf4PfCy9az1pkQ+LvFMQDw+B7GTqVJ+V9QlTIgiP3f8AWv8AKoD/AGz8BPgX4b/Zp+EWh+B/CNgunaD4ftxBbx7t8khJLPLI55eWRyzu7ZLMzE8mqH7Nf7NXhH9k74WWnhHwbp72enwu1xc3E8rXF5ql0/Mt1czOS808jfMzsSSeOAAB32419RhcLGhDlW/VnymLxUq8+Z7dELSflRuNG411HKH5UUbjRQApwKYeT+NFFADW7UlFFADo/vivIf2k/wBgv4W/tXalZ6p4s8NRjxNpa7NP8SaXcSabrenj0ivIGWULz9wsUPdTRRQ9dGCbWqPjP4m/8ECr7w742uvFPw18fxWuuzt5kl5eJNoerXJ64lvtLMUU3X71xZTMe5OTn5B+P37dXxN/4JqfEe2j+JHjDxJ4l0qxuAt1YW8un6yLqMHlRKbHT5EJGcEliOCd3OSiuPEYek1do7sPiaqdkx3wj/4Ocfhr4/ax0ePwT49vdamIjeea3s7O3kYk4OFuJSo6etfdnwHuPjN+114bTVfC9j8NPBWiy4/03UtQvdZu0B5BFqkFshPsbj86KK5cPgqMnrH8zqrY6uo6S/I9c8Lf8EsfB+u6vZ6t8Wta1j4x6pZus8NlrYSHw/aSg5DxabEBCxXs1wZnHUN6fTtpax6faxwwRRwwwqEjjjXaqKOAABwAB2FFFepGEYrlirI8mdSU3zSd2SbvYUbvpRRVEhuo3UUUAGfpRRRQB//Z' width='200' height='133' class=\"itemThumbnail\">\n",
       "                       </a>\n",
       "                    </div>\n",
       "\n",
       "                    <div class=\"item_right\" style=\"float: none; width: auto; overflow: hidden;\">\n",
       "                        <a href='https://ags-enterprise4.aeroterra.com/arcgis//home/user.html?user=afernandez' target='_blank'><b>Andres Fernandez</b>\n",
       "                        </a>\n",
       "                        <br/><br/><b>Bio</b>: Usuario de prueba \n",
       "                        <br/><b>First Name</b>: Andres\n",
       "                        <br/><b>Last Name</b>: Fernandez\n",
       "                        <br/><b>Username</b>: afernandez\n",
       "                        <br/><b>Joined</b>: May 10, 2017\n",
       "\n",
       "                    </div>\n",
       "                </div>\n",
       "                "
      ],
      "text/plain": [
       "<User username:afernandez>"
      ]
     },
     "execution_count": 28,
     "metadata": {},
     "output_type": "execute_result"
    }
   ],
   "source": [
    "newuser = gis.users.get(new_userid)\n",
    "newuser"
   ]
  },
  {
   "cell_type": "markdown",
   "metadata": {},
   "source": [
    "Una vez que se ha creado correctamente el nuevo usuario, reasigne la propiedad del grupo y la pertenencia a grupos del usuario antiguo al nuevo usuario."
   ]
  },
  {
   "cell_type": "code",
   "execution_count": 29,
   "metadata": {
    "collapsed": false
   },
   "outputs": [],
   "source": [
    "usergroups = olduser['groups']\n",
    "\n",
    "for group in usergroups:\n",
    "    grp = gis.groups.get(group['id'])\n",
    "    if (grp.owner == orig_userid):\n",
    "        grp.reassign_to(new_userid)\n",
    "    else:\n",
    "        grp.add_users(new_userid)\n",
    "        grp.remove_users(orig_userid)"
   ]
  },
  {
   "cell_type": "markdown",
   "metadata": {},
   "source": [
    "Una vez que se ha cambiado correctamente la propiedad / pertenencia del grupo, reasigne todo el contenido del usuario original al nuevo usuario. Esto ocurre en 2 pases. En primer lugar, reasigne todo en la carpeta raíz de 'Mis contenidos'. A continuación, haga un bucle en cada carpeta, cree la misma carpeta en la nueva cuenta de usuario y reasigne los elementos de cada carpeta al nuevo usuario en la carpeta correcta.\n"
   ]
  },
  {
   "cell_type": "code",
   "execution_count": 30,
   "metadata": {
    "collapsed": true
   },
   "outputs": [],
   "source": [
    "usercontent = olduser.items()\n",
    "folders = olduser.folders\n",
    "for item in usercontent:\n",
    "    try:\n",
    "        item.reassign_to(new_userid)\n",
    "    except:\n",
    "        print(item)\n",
    "\n",
    "for folder in folders:\n",
    "    gis.content.create_folder(folder['title'], new_userid)\n",
    "    folderitems = olduser.items(folder=folder['title'])\n",
    "    for item in folderitems:\n",
    "        item.reassign_to(new_userid, target_folder=folder['title'])"
   ]
  },
  {
   "cell_type": "code",
   "execution_count": null,
   "metadata": {
    "collapsed": true
   },
   "outputs": [],
   "source": []
  }
 ],
 "metadata": {
  "anaconda-cloud": {},
  "kernelspec": {
   "display_name": "Python 3",
   "language": "python",
   "name": "python3"
  },
  "language_info": {
   "codemirror_mode": {
    "name": "ipython",
    "version": 3
   },
   "file_extension": ".py",
   "mimetype": "text/x-python",
   "name": "python",
   "nbconvert_exporter": "python",
   "pygments_lexer": "ipython3",
   "version": "3.6.0"
  }
 },
 "nbformat": 4,
 "nbformat_minor": 0
}
