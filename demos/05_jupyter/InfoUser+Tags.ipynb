{
 "cells": [
  {
   "cell_type": "code",
   "execution_count": 1,
   "metadata": {
    "collapsed": true
   },
   "outputs": [],
   "source": [
    "from arcgis.gis import GIS\n",
    "gis = GIS(\"https://ags-enterprise4.aeroterra.com/arcgis/\", \"PythonApi\", \"test123456\")"
   ]
  },
  {
   "cell_type": "code",
   "execution_count": 2,
   "metadata": {
    "collapsed": false
   },
   "outputs": [
    {
     "data": {
      "text/html": [
       "<div class=\"9item_container\" style=\"height: auto; overflow: hidden; border: 1px solid #cfcfcf; border-radius: 2px; background: #f6fafa; line-height: 1.21429em; padding: 10px;\">\n",
       "                    <div class=\"item_left\" style=\"width: 210px; float: left;\">\n",
       "                       <a href='https://ags-enterprise4.aeroterra.com/arcgis//home/user.html?user=PythonApi' target='_blank'>\n",
       "                        <img src='data:image/png;base64,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' width='200' height='133' class=\"itemThumbnail\">\n",
       "                       </a>\n",
       "                    </div>\n",
       "\n",
       "                    <div class=\"item_right\" style=\"float: none; width: auto; overflow: hidden;\">\n",
       "                        <a href='https://ags-enterprise4.aeroterra.com/arcgis//home/user.html?user=PythonApi' target='_blank'><b>Python Api</b>\n",
       "                        </a>\n",
       "                        <br/><br/><b>Bio</b>: \n",
       "                        <br/><b>First Name</b>: Python\n",
       "                        <br/><b>Last Name</b>: Api\n",
       "                        <br/><b>Username</b>: PythonApi\n",
       "                        <br/><b>Joined</b>: May 08, 2017\n",
       "\n",
       "                    </div>\n",
       "                </div>\n",
       "                "
      ],
      "text/plain": [
       "<User username:PythonApi>"
      ]
     },
     "execution_count": 2,
     "metadata": {},
     "output_type": "execute_result"
    }
   ],
   "source": [
    "me = gis.users.me\n",
    "me"
   ]
  },
  {
   "cell_type": "code",
   "execution_count": 3,
   "metadata": {
    "collapsed": false
   },
   "outputs": [
    {
     "data": {
      "text/plain": [
       "'public'"
      ]
     },
     "execution_count": 3,
     "metadata": {},
     "output_type": "execute_result"
    }
   ],
   "source": [
    "me.access"
   ]
  },
  {
   "cell_type": "code",
   "execution_count": 4,
   "metadata": {
    "collapsed": false
   },
   "outputs": [
    {
     "name": "stdout",
     "output_type": "stream",
     "text": [
      "Miembro de 4 grupo/s\n"
     ]
    }
   ],
   "source": [
    "user_groups = me.groups\n",
    "print(\"Miembro de \" + str(len(user_groups)) + \" grupo/s\")"
   ]
  },
  {
   "cell_type": "code",
   "execution_count": 6,
   "metadata": {
    "collapsed": false
   },
   "outputs": [
    {
     "name": "stdout",
     "output_type": "stream",
     "text": [
      "Posee 8 item/s\n"
     ]
    }
   ],
   "source": [
    "user_items = me.items()\n",
    "print(\"Posee \" + str(len(user_items)) + \" item/s\")"
   ]
  },
  {
   "cell_type": "code",
   "execution_count": 9,
   "metadata": {
    "collapsed": false
   },
   "outputs": [
    {
     "name": "stdout",
     "output_type": "stream",
     "text": [
      "['Web AppBuilder']\n",
      "['TRACK']\n",
      "['TRACK']\n",
      "['WebApp']\n",
      "['Aggregate Points']\n",
      "['Big Data Analytics', 'AggregatePoints']\n",
      "['Aggregate Points']\n",
      "['Big Data Analytics', 'AggregatePoints']\n"
     ]
    }
   ],
   "source": [
    "for item in user_items:\n",
    "    try:\n",
    "        print(item.tags)\n",
    "    except:\n",
    "        print(item)"
   ]
  },
  {
   "cell_type": "code",
   "execution_count": 14,
   "metadata": {
    "collapsed": false
   },
   "outputs": [
    {
     "data": {
      "text/plain": [
       "['TRACK', 'UC2017']"
      ]
     },
     "execution_count": 14,
     "metadata": {},
     "output_type": "execute_result"
    }
   ],
   "source": [
    "item = gis.content.get('b2c97de923214dfca44ee71420a56e54')\n",
    "item.tags"
   ]
  },
  {
   "cell_type": "code",
   "execution_count": 15,
   "metadata": {
    "collapsed": false
   },
   "outputs": [
    {
     "data": {
      "text/plain": [
       "True"
      ]
     },
     "execution_count": 15,
     "metadata": {},
     "output_type": "execute_result"
    }
   ],
   "source": [
    "item.update(item_properties={'tags':'TRACK,UC2017,DEVELOPERS'})"
   ]
  },
  {
   "cell_type": "code",
   "execution_count": 16,
   "metadata": {
    "collapsed": false
   },
   "outputs": [
    {
     "data": {
      "text/plain": [
       "['TRACK', 'UC2017', 'DEVELOPERS']"
      ]
     },
     "execution_count": 16,
     "metadata": {},
     "output_type": "execute_result"
    }
   ],
   "source": [
    "item.tags"
   ]
  },
  {
   "cell_type": "code",
   "execution_count": 17,
   "metadata": {
    "collapsed": false
   },
   "outputs": [
    {
     "data": {
      "text/plain": [
       "'TRACK_date'"
      ]
     },
     "execution_count": 17,
     "metadata": {},
     "output_type": "execute_result"
    }
   ],
   "source": [
    "item.title"
   ]
  },
  {
   "cell_type": "code",
   "execution_count": 18,
   "metadata": {
    "collapsed": false
   },
   "outputs": [
    {
     "data": {
      "text/plain": [
       "'C:\\\\temp\\\\metadata.xml'"
      ]
     },
     "execution_count": 18,
     "metadata": {},
     "output_type": "execute_result"
    }
   ],
   "source": [
    "item.download_metadata(save_folder=r'C:\\temp')"
   ]
  },
  {
   "cell_type": "code",
   "execution_count": 19,
   "metadata": {
    "collapsed": false
   },
   "outputs": [
    {
     "data": {
      "text/plain": [
       "'C:\\\\temp\\\\thumbnail.JPEG'"
      ]
     },
     "execution_count": 19,
     "metadata": {},
     "output_type": "execute_result"
    }
   ],
   "source": [
    "item.download_thumbnail(save_folder= r'C:\\temp')"
   ]
  },
  {
   "cell_type": "code",
   "execution_count": null,
   "metadata": {
    "collapsed": true
   },
   "outputs": [],
   "source": []
  }
 ],
 "metadata": {
  "kernelspec": {
   "display_name": "Python 3",
   "language": "python",
   "name": "python3"
  },
  "language_info": {
   "codemirror_mode": {
    "name": "ipython",
    "version": 3
   },
   "file_extension": ".py",
   "mimetype": "text/x-python",
   "name": "python",
   "nbconvert_exporter": "python",
   "pygments_lexer": "ipython3",
   "version": "3.6.0"
  }
 },
 "nbformat": 4,
 "nbformat_minor": 2
}
